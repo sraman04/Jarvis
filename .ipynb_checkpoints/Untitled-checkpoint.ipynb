{
 "cells": [
  {
   "cell_type": "code",
   "execution_count": 3,
   "id": "88e4fe24",
   "metadata": {},
   "outputs": [
    {
     "ename": "ModuleNotFoundError",
     "evalue": "No module named 'pywhatkit'",
     "output_type": "error",
     "traceback": [
      "\u001b[1;31m----------------------------------------------------------------\u001b[0m",
      "\u001b[1;31mModuleNotFoundError\u001b[0m            Traceback (most recent call last)",
      "Cell \u001b[1;32mIn [3], line 4\u001b[0m\n\u001b[0;32m      2\u001b[0m \u001b[38;5;28;01mimport\u001b[39;00m \u001b[38;5;21;01mspeech_recognition\u001b[39;00m \u001b[38;5;28;01mas\u001b[39;00m \u001b[38;5;21;01msr\u001b[39;00m\n\u001b[0;32m      3\u001b[0m \u001b[38;5;28;01mimport\u001b[39;00m \u001b[38;5;21;01mpyttsx3\u001b[39;00m\n\u001b[1;32m----> 4\u001b[0m \u001b[38;5;28;01mimport\u001b[39;00m \u001b[38;5;21;01mpywhatkit\u001b[39;00m\n\u001b[0;32m      5\u001b[0m \u001b[38;5;28;01mimport\u001b[39;00m \u001b[38;5;21;01mdatetime\u001b[39;00m\n\u001b[0;32m      6\u001b[0m \u001b[38;5;28;01mimport\u001b[39;00m \u001b[38;5;21;01mwikipedia\u001b[39;00m\n",
      "\u001b[1;31mModuleNotFoundError\u001b[0m: No module named 'pywhatkit'"
     ]
    }
   ],
   "source": [
    "import speech_recognition as sr\n",
    "import speech_recognition as sr\n",
    "import pyttsx3\n",
    "import pywhatkit\n",
    "import datetime\n",
    "import wikipedia\n",
    "import pyjokes\n",
    "\n",
    "listener = sr.Recognizer()\n",
    "engine = pyttsx3.init()\n",
    "voices = engine.getProperty('voices')\n",
    "engine.setProperty('voice', voices[1].id)\n",
    "\n",
    "\n",
    "def talk(text):\n",
    "    engine.say(text)\n",
    "    engine.runAndWait()\n",
    "\n",
    "\n",
    "def take_command():\n",
    "    try:\n",
    "        with sr.Microphone() as source:\n",
    "            print('listening...')\n",
    "            voice = listener.listen(source)\n",
    "            command = listener.recognize_google(voice)\n",
    "            command = command.lower()\n",
    "            if 'alexa' in command:\n",
    "                command = command.replace('alexa', '')\n",
    "                print(command)\n",
    "    except:\n",
    "        pass\n",
    "    return command\n",
    "\n",
    "\n",
    "def run_alexa():\n",
    "    command = take_command()\n",
    "    print(command)\n",
    "    if 'play' in command:\n",
    "        song = command.replace('play', '')\n",
    "        talk('playing ' + song)\n",
    "        pywhatkit.playonyt(song)\n",
    "    elif 'time' in command:\n",
    "        time = datetime.datetime.now().strftime('%I:%M %p')\n",
    "        talk('Current time is ' + time)\n",
    "    elif 'who the heck is' in command:\n",
    "        person = command.replace('who the heck is', '')\n",
    "        info = wikipedia.summary(person, 1)\n",
    "        print(info)\n",
    "        talk(info)\n",
    "    elif 'date' in command:\n",
    "        talk('sorry, I have a headache')\n",
    "    elif 'are you single' in command:\n",
    "        talk('I am in a relationship with wifi')\n",
    "    elif 'joke' in command:\n",
    "        talk(pyjokes.get_joke())\n",
    "    else:\n",
    "        talk('Please say the command again.')\n",
    "\n",
    "\n",
    "while True:\n",
    "    run_alexa()"
   ]
  },
  {
   "cell_type": "code",
   "execution_count": 2,
   "id": "715462eb",
   "metadata": {},
   "outputs": [],
   "source": []
  },
  {
   "cell_type": "code",
   "execution_count": null,
   "id": "11c028d5",
   "metadata": {},
   "outputs": [],
   "source": []
  }
 ],
 "metadata": {
  "kernelspec": {
   "display_name": "Python 3 (ipykernel)",
   "language": "python",
   "name": "python3"
  },
  "language_info": {
   "codemirror_mode": {
    "name": "ipython",
    "version": 3
   },
   "file_extension": ".py",
   "mimetype": "text/x-python",
   "name": "python",
   "nbconvert_exporter": "python",
   "pygments_lexer": "ipython3",
   "version": "3.10.2"
  }
 },
 "nbformat": 4,
 "nbformat_minor": 5
}
